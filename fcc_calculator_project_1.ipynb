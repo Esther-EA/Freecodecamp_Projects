{
  "nbformat": 4,
  "nbformat_minor": 0,
  "metadata": {
    "colab": {
      "provenance": [],
      "mount_file_id": "1r0iaYy9kqOI1mctN9C__wkaZ15--qEH2",
      "authorship_tag": "ABX9TyPW0ak/FabvhO43ablmI9rq",
      "include_colab_link": true
    },
    "kernelspec": {
      "name": "python3",
      "display_name": "Python 3"
    },
    "language_info": {
      "name": "python"
    }
  },
  "cells": [
    {
      "cell_type": "markdown",
      "metadata": {
        "id": "view-in-github",
        "colab_type": "text"
      },
      "source": [
        "<a href=\"https://colab.research.google.com/github/Esther-EA/Other_Projects/blob/master/fcc_calculator_project_1.ipynb\" target=\"_parent\"><img src=\"https://colab.research.google.com/assets/colab-badge.svg\" alt=\"Open In Colab\"/></a>"
      ]
    },
    {
      "cell_type": "code",
      "execution_count": 1,
      "metadata": {
        "id": "8_5tfknHxtnL"
      },
      "outputs": [],
      "source": [
        "from google.colab import drive"
      ]
    },
    {
      "cell_type": "code",
      "source": [
        "%cd /content/drive/MyDrive/Freecodecamp_projects"
      ],
      "metadata": {
        "colab": {
          "base_uri": "https://localhost:8080/"
        },
        "id": "7lIqd_t7yKvz",
        "outputId": "4436980e-b886-4f67-8108-32f003b7af56"
      },
      "execution_count": 2,
      "outputs": [
        {
          "output_type": "stream",
          "name": "stdout",
          "text": [
            "/content/drive/MyDrive/Freecodecamp_projects\n"
          ]
        }
      ]
    },
    {
      "cell_type": "markdown",
      "source": [
        "**If a list containing less than 9 elements is passed into the function, it should raise a ValueError exception with the message: \"List must contain nine numbers.\" The values in the returned dictionary should be lists and not Numpy arrays.**"
      ],
      "metadata": {
        "id": "qCwJWOxX0s_S"
      }
    },
    {
      "cell_type": "code",
      "source": [
        "import numpy as np\n",
        "def calculate(list):\n",
        "    if len(list) !=9:\n",
        "        return(\"List must contain 9 numbers.\")\n",
        "    else:\n",
        "        list = np.array(list).reshape(3,3)\n",
        "        \n",
        "    result = {\n",
        "    'mean': [np.mean(list,0), np.mean(list,1), np.mean(list)],\n",
        "    'variance': [np.var(list,0), np.var(list,1), np.var(list)],\n",
        "    'standard deviation': [np.std(list,0), np.std(list,1), np.std(list)],\n",
        "    'max': [np.max(list,0), np.max(list,1), np.max(list)],\n",
        "    'min': [np.min(list,0), np.min(list,1), np.min(list)],\n",
        "    'sum': [np.sum(list,0), np.sum(list,1), np.sum(list)]   \n",
        "    }\n",
        "    \n",
        "    return result\n",
        "    \n",
        "print(calculate([1,2,3,4,5,6,7,8,9]))"
      ],
      "metadata": {
        "colab": {
          "base_uri": "https://localhost:8080/"
        },
        "id": "-CtNKHcdyWMq",
        "outputId": "f4e817e5-e054-4324-aa40-7babc9db0a5c"
      },
      "execution_count": 3,
      "outputs": [
        {
          "output_type": "stream",
          "name": "stdout",
          "text": [
            "{'mean': [array([4., 5., 6.]), array([2., 5., 8.]), 5.0], 'variance': [array([6., 6., 6.]), array([0.66666667, 0.66666667, 0.66666667]), 6.666666666666667], 'standard deviation': [array([2.44948974, 2.44948974, 2.44948974]), array([0.81649658, 0.81649658, 0.81649658]), 2.581988897471611], 'max': [array([7, 8, 9]), array([3, 6, 9]), 9], 'min': [array([1, 2, 3]), array([1, 4, 7]), 1], 'sum': [array([12, 15, 18]), array([ 6, 15, 24]), 45]}\n"
          ]
        }
      ]
    }
  ]
}